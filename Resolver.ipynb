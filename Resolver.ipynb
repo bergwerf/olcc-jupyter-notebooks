{
 "cells": [
  {
   "cell_type": "markdown",
   "metadata": {},
   "source": [
    "# The Chemical Identifier Resolver\n",
    "The Chemical Identifier Resolver is a webservice offered at NIH: https://cactus.nci.nih.gov/chemical/structure.\n",
    "It's HTTP API looks like this: `https://cactus.nci.nih.gov/chemical/structure/\"structure identifier\"/\"representation\"`."
   ]
  },
  {
   "cell_type": "code",
   "execution_count": 6,
   "metadata": {
    "collapsed": false
   },
   "outputs": [
    {
     "name": "stdout",
     "output_type": "stream",
     "text": [
      "InChI=1/C6H12O6/c7-1-3(9)5(11)6(12)4(10)2-8/h1,3-6,8-12H,2H2/t3-,4+,5+,6+/m0/s1\n"
     ]
    }
   ],
   "source": [
    "import urllib.request\n",
    "\n",
    "structureIdentifier = 'glucose'\n",
    "representation = 'InChI'\n",
    "url = 'https://cactus.nci.nih.gov/chemical/structure/{}/{}'.format(structureIdentifier, representation)\n",
    "text = urllib.request.urlopen(url).read().decode('utf-8')\n",
    "print(text)"
   ]
  }
 ],
 "metadata": {
  "kernelspec": {
   "display_name": "Python 3",
   "language": "python",
   "name": "python3"
  },
  "language_info": {
   "codemirror_mode": {
    "name": "ipython",
    "version": 3
   },
   "file_extension": ".py",
   "mimetype": "text/x-python",
   "name": "python",
   "nbconvert_exporter": "python",
   "pygments_lexer": "ipython3",
   "version": "3.5.2"
  }
 },
 "nbformat": 4,
 "nbformat_minor": 1
}
